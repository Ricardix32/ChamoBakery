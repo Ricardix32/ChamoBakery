{
  "nbformat": 4,
  "nbformat_minor": 0,
  "metadata": {
    "colab": {
      "provenance": [],
      "authorship_tag": "ABX9TyOMxd641k0XORHqbD92xv0m",
      "include_colab_link": true
    },
    "kernelspec": {
      "name": "python3",
      "display_name": "Python 3"
    },
    "language_info": {
      "name": "python"
    }
  },
  "cells": [
    {
      "cell_type": "markdown",
      "metadata": {
        "id": "view-in-github",
        "colab_type": "text"
      },
      "source": [
        "<a href=\"https://colab.research.google.com/github/Ricardix32/ChamoBakery/blob/main/BackUp/BU1/FreeChamoBakery.ipynb\" target=\"_parent\"><img src=\"https://colab.research.google.com/assets/colab-badge.svg\" alt=\"Open In Colab\"/></a>"
      ]
    },
    {
      "cell_type": "code",
      "execution_count": null,
      "metadata": {
        "id": "OYOeItt2Q8ut"
      },
      "outputs": [],
      "source": [
        "# Instalación de dependencias\n",
        "!pip install streamlit pandas numpy psycopg2-binary plotly bcrypt pyjwt\n",
        "!pip install sqlalchemy streamlit-option-menu\n",
        "\n",
        "# Configuración para ejecutar Streamlit en Colab\n",
        "!npm install localtunnel\n",
        "!wget -q -O - ipv4.icanhazip.com"
      ]
    },
    {
      "cell_type": "code",
      "source": [
        "from pyngrok import ngrok\n",
        "import os\n",
        "\n",
        "# Configurar ngrok para exponer la aplicación\n",
        "\n",
        "# Terminate any currently running ngrok tunnels\n",
        "os.system(\"kill $(ps aux | grep 'ngrok' | awk '{print $2}')\")\n",
        "\n",
        "!ngrok config add-authtoken 2xEK1xG7Ay6qyUnbDnButQLFizj_3p7787xe5U8b75GQ8GP16\n",
        "\n",
        "!streamlit run main.py &>/dev/null&\n",
        "\n",
        "public_url = ngrok.connect(8501)\n",
        "\n",
        "print(f\"Tu aplicación CRUD está disponible en: {public_url.public_url}\")"
      ],
      "metadata": {
        "id": "JUgfoVMkS2Kj"
      },
      "execution_count": null,
      "outputs": []
    }
  ]
}